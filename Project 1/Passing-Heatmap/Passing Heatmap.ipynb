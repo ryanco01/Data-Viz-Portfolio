{
 "cells": [
  {
   "cell_type": "code",
   "execution_count": 86,
   "metadata": {},
   "outputs": [],
   "source": [
    "import pandas as pd\n",
    "import matplotlib.pyplot as plt\n",
    "import seaborn as sns\n",
    "import numpy as np\n",
    "import os"
   ]
  },
  {
   "cell_type": "code",
   "execution_count": 87,
   "metadata": {},
   "outputs": [
    {
     "data": {
      "application/vnd.microsoft.datawrangler.viewer.v0+json": {
       "columns": [
        {
         "name": "index",
         "rawType": "int64",
         "type": "integer"
        },
        {
         "name": "team",
         "rawType": "object",
         "type": "string"
        },
        {
         "name": "week",
         "rawType": "int64",
         "type": "integer"
        },
        {
         "name": "name",
         "rawType": "object",
         "type": "string"
        },
        {
         "name": "pass_type",
         "rawType": "object",
         "type": "string"
        },
        {
         "name": "x",
         "rawType": "float64",
         "type": "float"
        },
        {
         "name": "y",
         "rawType": "float64",
         "type": "float"
        },
        {
         "name": "season",
         "rawType": "int64",
         "type": "integer"
        }
       ],
       "conversionMethod": "pd.DataFrame",
       "ref": "61e9d308-745d-4840-9bf7-96cd92739da2",
       "rows": [
        [
         "0",
         "ARI",
         "1",
         "Kyler Murray",
         "COMPLETE",
         "-21.227101803683343",
         "0.0319089207735428",
         "2020"
        ],
        [
         "1",
         "ARI",
         "1",
         "Kyler Murray",
         "COMPLETE",
         "13.81104183505792",
         "6.654193418940598",
         "2020"
        ],
        [
         "2",
         "ARI",
         "1",
         "Kyler Murray",
         "COMPLETE",
         "-11.84873381227844",
         "4.253001737175552",
         "2020"
        ],
        [
         "3",
         "ARI",
         "1",
         "Kyler Murray",
         "COMPLETE",
         "5.388567869659905",
         "-0.5687441643324109",
         "2020"
        ],
        [
         "4",
         "ARI",
         "1",
         "Kyler Murray",
         "COMPLETE",
         "-23.583575514874173",
         "15.900375939849615",
         "2020"
        ]
       ],
       "shape": {
        "columns": 7,
        "rows": 5
       }
      },
      "text/html": [
       "<div>\n",
       "<style scoped>\n",
       "    .dataframe tbody tr th:only-of-type {\n",
       "        vertical-align: middle;\n",
       "    }\n",
       "\n",
       "    .dataframe tbody tr th {\n",
       "        vertical-align: top;\n",
       "    }\n",
       "\n",
       "    .dataframe thead th {\n",
       "        text-align: right;\n",
       "    }\n",
       "</style>\n",
       "<table border=\"1\" class=\"dataframe\">\n",
       "  <thead>\n",
       "    <tr style=\"text-align: right;\">\n",
       "      <th></th>\n",
       "      <th>team</th>\n",
       "      <th>week</th>\n",
       "      <th>name</th>\n",
       "      <th>pass_type</th>\n",
       "      <th>x</th>\n",
       "      <th>y</th>\n",
       "      <th>season</th>\n",
       "    </tr>\n",
       "  </thead>\n",
       "  <tbody>\n",
       "    <tr>\n",
       "      <th>0</th>\n",
       "      <td>ARI</td>\n",
       "      <td>1</td>\n",
       "      <td>Kyler Murray</td>\n",
       "      <td>COMPLETE</td>\n",
       "      <td>-21.227102</td>\n",
       "      <td>0.031909</td>\n",
       "      <td>2020</td>\n",
       "    </tr>\n",
       "    <tr>\n",
       "      <th>1</th>\n",
       "      <td>ARI</td>\n",
       "      <td>1</td>\n",
       "      <td>Kyler Murray</td>\n",
       "      <td>COMPLETE</td>\n",
       "      <td>13.811042</td>\n",
       "      <td>6.654193</td>\n",
       "      <td>2020</td>\n",
       "    </tr>\n",
       "    <tr>\n",
       "      <th>2</th>\n",
       "      <td>ARI</td>\n",
       "      <td>1</td>\n",
       "      <td>Kyler Murray</td>\n",
       "      <td>COMPLETE</td>\n",
       "      <td>-11.848734</td>\n",
       "      <td>4.253002</td>\n",
       "      <td>2020</td>\n",
       "    </tr>\n",
       "    <tr>\n",
       "      <th>3</th>\n",
       "      <td>ARI</td>\n",
       "      <td>1</td>\n",
       "      <td>Kyler Murray</td>\n",
       "      <td>COMPLETE</td>\n",
       "      <td>5.388568</td>\n",
       "      <td>-0.568744</td>\n",
       "      <td>2020</td>\n",
       "    </tr>\n",
       "    <tr>\n",
       "      <th>4</th>\n",
       "      <td>ARI</td>\n",
       "      <td>1</td>\n",
       "      <td>Kyler Murray</td>\n",
       "      <td>COMPLETE</td>\n",
       "      <td>-23.583576</td>\n",
       "      <td>15.900376</td>\n",
       "      <td>2020</td>\n",
       "    </tr>\n",
       "  </tbody>\n",
       "</table>\n",
       "</div>"
      ],
      "text/plain": [
       "  team  week          name pass_type          x          y  season\n",
       "0  ARI     1  Kyler Murray  COMPLETE -21.227102   0.031909    2020\n",
       "1  ARI     1  Kyler Murray  COMPLETE  13.811042   6.654193    2020\n",
       "2  ARI     1  Kyler Murray  COMPLETE -11.848734   4.253002    2020\n",
       "3  ARI     1  Kyler Murray  COMPLETE   5.388568  -0.568744    2020\n",
       "4  ARI     1  Kyler Murray  COMPLETE -23.583576  15.900376    2020"
      ]
     },
     "execution_count": 87,
     "metadata": {},
     "output_type": "execute_result"
    }
   ],
   "source": [
    "#load data\n",
    "df = pd.read_csv(r\"C:\\Users\\Collin\\OneDrive - Gettysburg College\\Gettysburg Spring 2025\\DS 311 Data Visualizations\\Github\\Passing-Heatmap\\Data\\nfl_data.csv\")\n",
    "df.head()"
   ]
  },
  {
   "cell_type": "code",
   "execution_count": 88,
   "metadata": {},
   "outputs": [],
   "source": [
    "quarterback = 'Kyler Murray'\n",
    "week = 10\n",
    "season = 2019\n",
    "\n",
    "#add error handling for quarterback names \n",
    "\n",
    "#filter data for specific quarterback and week\n",
    "qb_df = df[df['name'] == quarterback]\n",
    "qb_df = qb_df[qb_df['week'] == week]\n",
    "qb_df = qb_df[qb_df['season'] == season]\n",
    "\n",
    "# so qb_df is the df of a qb's play in a week of a season\n"
   ]
  },
  {
   "cell_type": "code",
   "execution_count": 89,
   "metadata": {},
   "outputs": [
    {
     "data": {
      "text/plain": [
       "<Axes: xlabel='x', ylabel='y'>"
      ]
     },
     "execution_count": 89,
     "metadata": {},
     "output_type": "execute_result"
    },
    {
     "data": {
      "image/png": "[encoded data removed]",
      "text/plain": [
       "<Figure size 640x480 with 2 Axes>"
      ]
     },
     "metadata": {},
     "output_type": "display_data"
    }
   ],
   "source": [
    "# Field Plot:\n",
    "fig, (ax1, ax2) = plt.subplots(1, 2) #make 2 plots side by side for both thingys\n",
    "plt.style.use('dark_background') #black background\n",
    "\n",
    "ax1.set_xlabel('')\n",
    "ax1.set_xticks([])\n",
    "ax1.set_yticks([])\n",
    "ax1.set_ylabel('')\n",
    "\n",
    "ax1.set_xlim(-53.333/2, 53.333/2) #field dimensions\n",
    "ax1.set_ylim(-15,60)\n",
    "\n",
    "for h in range(-15,60-1,1): #create hash marks\n",
    "    ax1.annotate('--', (-3.1, h-0.5), ha='center', fontsize=10)\n",
    "    ax1.annotate('--', (3.1, h-0.5), ha='center', fontsize=10)\n",
    "\n",
    "for y in range(-15, 60-1, 5): #create yard lines this is the feint 5 yards line\n",
    "    ax1.axhline(y, color ='white', ls = '-', alpha = 0.5, lw = 1)\n",
    "\n",
    "for i in range(-10, 60, 10): #this is the bold 10 yard line\n",
    "    ax1.axhline(i, color ='white', ls='-', alpha=1, lw=1.5)\n",
    "\n",
    "for i in range(10, 60-1, 10): #create yard numbers\n",
    "    ax1.annotate(str(i), (-12.88, i-1.15), ha='center', fontsize=20, rotation=270)\n",
    "    ax1.annotate(str(i), (12.88, i-0.65), ha='center', fontsize=20, rotation=90)\n",
    "\n",
    "# same for ax2\n",
    "ax2.set_xlabel('')\n",
    "ax2.set_xticks([])\n",
    "ax2.set_yticks([])\n",
    "ax2.set_ylabel('')\n",
    "\n",
    "ax2.set_xlim(-53.333/2, 53.333/2)\n",
    "ax2.set_ylim(-15,60)\n",
    "\n",
    "for h in range(-15,60-1,1): #create hash marks\n",
    "    ax2.annotate('--', (-3.1, h-0.5), ha='center', fontsize=10)\n",
    "    ax2.annotate('--', (3.1, h-0.5), ha='center', fontsize=10)\n",
    "\n",
    "for y in range(-15, 60-1, 5): #create yard lines this is the feint 5 yards line\n",
    "    ax2.axhline(y, color ='white', ls = '-', alpha = 0.5, lw = 1)\n",
    "\n",
    "for i in range(-10, 60, 10): #this is the bold 10 yard line\n",
    "    ax2.axhline(i, color ='white', ls='-', alpha = 1, lw = 1.5)\n",
    "\n",
    "for i in range(10, 60-1, 10): #create yard numbers\n",
    "    ax2.annotate(str(i), (-12.88, i-1.15), ha='center', fontsize=20, rotation=270)\n",
    "    ax2.annotate(str(i), (12.88, i-0.65), ha='center', fontsize=20, rotation=90)\n",
    "\n",
    "sns.kdeplot(data = qb_df, x = qb_df['x'], y = qb_df['y'], ax = ax1, cmap = \"gist_heat\", fill = True, thresh = 0.05, n_levels = 10) #heatmap\n",
    "# straighfoward, I played with thresh a lot to get it close to what the guy had.\n",
    "\n",
    "# x_complete = qb_df[qb_df['pass_type'] == 'COMPLETE']['x']\n",
    "# y_complete = qb_df[qb_df['pass_type'] == 'COMPLETE']['y']\n",
    "\n",
    "sns.scatterplot(x = qb_df.x, y = qb_df.y, ax = ax2, s = 50) #scatterplot of pass locations\n",
    "\n"
   ]
  },
  {
   "cell_type": "code",
   "execution_count": 90,
   "metadata": {},
   "outputs": [
    {
     "data": {
      "application/vnd.jupyter.widget-view+json": {
       "model_id": "6ee67ca0a00a411c98d33b95d5a69701",
       "version_major": 2,
       "version_minor": 0
      },
      "text/plain": [
       "interactive(children=(Dropdown(description='QB:', options=('Kyler Murray', 'Chris Streveler', 'Matt Ryan', 'La…"
      ]
     },
     "metadata": {},
     "output_type": "display_data"
    },
    {
     "data": {
      "text/plain": [
       "<function __main__.update_plots(selected_qb, selected_week, selected_season)>"
      ]
     },
     "execution_count": 90,
     "metadata": {},
     "output_type": "execute_result"
    }
   ],
   "source": [
    "from ipywidgets import interact, widgets\n",
    "# Create dropdown widgets for quarterback, week, and season\n",
    "qb_dropdown = widgets.Dropdown(\n",
    "    options=df['name'].unique(),\n",
    "    value=quarterback,\n",
    "    description='QB:',\n",
    ")\n",
    "\n",
    "week_dropdown = widgets.Dropdown(\n",
    "    options=sorted(df['week'].unique()),\n",
    "    value=week,\n",
    "    description='Week:',\n",
    ")\n",
    "\n",
    "season_dropdown = widgets.Dropdown(\n",
    "    options=sorted(df['season'].unique()),\n",
    "    value=season,\n",
    "    description='Season:',\n",
    ")\n",
    "\n",
    "def update_options(*args):\n",
    "    # Update week and season options based on the selected quarterback\n",
    "    filtered_df = df[df['name'] == qb_dropdown.value]\n",
    "    week_dropdown.options = sorted(filtered_df['week'].unique())\n",
    "    season_dropdown.options = sorted(filtered_df['season'].unique())\n",
    "\n",
    "# Attach the update_options function to the quarterback dropdown\n",
    "qb_dropdown.observe(update_options, names='value')\n",
    "\n",
    "\n",
    "# Function to update the plots based on dropdown selection\n",
    "def update_plots(selected_qb, selected_week, selected_season):\n",
    "    global qb_df, quarterback, week, season\n",
    "    quarterback = selected_qb\n",
    "    week = selected_week\n",
    "    season = selected_season\n",
    "    \n",
    "    # Filter data for the selected quarterback, week, and season\n",
    "    qb_df = df[(df['name'] == quarterback) & (df['week'] == week) & (df['season'] == season)]\n",
    "    \n",
    "    # Update the plots (you may need to re-run the plotting code here)\n",
    "    print(f\"Selected QB: {quarterback}, Week: {week}, Season: {season}\")\n",
    "    # Optionally, clear and redraw the plots here\n",
    "\n",
    "# Create an interactive widget\n",
    "interact(update_plots, selected_qb=qb_dropdown, selected_week=week_dropdown, selected_season=season_dropdown)"
   ]
  },
  {
   "cell_type": "code",
   "execution_count": 91,
   "metadata": {},
   "outputs": [
    {
     "data": {
      "application/vnd.jupyter.widget-view+json": {
       "model_id": "e3804cd9a9fb4e4f8a8cf5a36e2d356d",
       "version_major": 2,
       "version_minor": 0
      },
      "text/plain": [
       "interactive(children=(Dropdown(description='QB:', options=('Kyler Murray', 'Chris Streveler', 'Matt Ryan', 'La…"
      ]
     },
     "metadata": {},
     "output_type": "display_data"
    },
    {
     "data": {
      "text/plain": [
       "<function __main__.update_plots(selected_qb, selected_week, selected_season)>"
      ]
     },
     "execution_count": 91,
     "metadata": {},
     "output_type": "execute_result"
    }
   ],
   "source": [
    "def update_plots(selected_qb, selected_week, selected_season):\n",
    "    global qb_df, quarterback, week, season, ax1, ax2, ax3\n",
    "    \n",
    "    # Update the global variables\n",
    "    quarterback = selected_qb\n",
    "    week = selected_week\n",
    "    season = selected_season\n",
    "    \n",
    "    # Filter data for the selected quarterback, week, and season\n",
    "    qb_df = df[(df['name'] == quarterback) & (df['week'] == week) & (df['season'] == season)]\n",
    "    \n",
    "    # Clear the axes\n",
    "    ax1.clear()\n",
    "    ax2.clear()\n",
    "    ax3.clear()\n",
    "    \n",
    "    # Redraw the plots\n",
    "    # Completions Heatmap\n",
    "    x_complete = qb_df[qb_df['pass_type'].isin(['COMPLETE', 'TOUCHDOWN'])]['x']\n",
    "    y_complete = qb_df[qb_df['pass_type'].isin(['COMPLETE', 'TOUCHDOWN'])]['y']\n",
    "    sns.kdeplot(x=x_complete, y=y_complete, ax=ax1, cmap='summer', fill=True, thresh=0.2, n_levels=10)\n",
    "    ax1.set_title('Completions')\n",
    "    \n",
    "    # Incompletions Heatmap\n",
    "    x_incomplete = qb_df[qb_df['pass_type'].isin(['INCOMPLETE', 'INTERCEPTION'])]['x']\n",
    "    y_incomplete = qb_df[qb_df['pass_type'].isin(['INCOMPLETE', 'INTERCEPTION'])]['y']\n",
    "    sns.kdeplot(x=x_incomplete, y=y_incomplete, ax=ax2, cmap='winter', fill=True, thresh=0.2, n_levels=10)\n",
    "    ax2.set_title('Incompletions')\n",
    "    \n",
    "    # Scatterplot for all passes\n",
    "    palette = {'COMPLETE': 'lime', 'INCOMPLETE': 'red', 'TOUCHDOWN': 'gold', 'INTERCEPTION': 'purple'}\n",
    "    marker_styles = {'COMPLETE': 'o', 'INCOMPLETE': 'X', 'TOUCHDOWN': 'P', 'INTERCEPTION': 'D'}\n",
    "    for pass_type, marker in marker_styles.items():\n",
    "        subset = qb_df[qb_df['pass_type'] == pass_type]\n",
    "        sns.scatterplot(\n",
    "            x=subset.x, \n",
    "            y=subset.y, \n",
    "            ax=ax3, \n",
    "            s=50, \n",
    "            marker=marker, \n",
    "            label=pass_type, \n",
    "            color=palette[pass_type], \n",
    "            edgecolor='black'\n",
    "        )\n",
    "    ax3.set_title('All Passes')\n",
    "    ax3.legend(loc='center left', bbox_to_anchor=(1, 0.5))\n",
    "    \n",
    "    # Refresh the figure\n",
    "    fig.canvas.draw_idle()\n",
    "\n",
    "# Recreate the interactive widget\n",
    "interact(update_plots, selected_qb=qb_dropdown, selected_week=week_dropdown, selected_season=season_dropdown)"
   ]
  },
  {
   "cell_type": "code",
   "execution_count": null,
   "metadata": {},
   "outputs": [
    {
     "name": "stdout",
     "output_type": "stream",
     "text": [
      "No data for pass type: COMPLETE\n",
      "No data for pass type: INCOMPLETE\n",
      "No data for pass type: TOUCHDOWN\n",
      "No data for pass type: INTERCEPTION\n",
      "No scatterplot points found in ax3.collections.\n",
      "No legend items to display.\n"
     ]
    },
    {
     "data": {
      "image/png": "[encoded data removed]",
      "text/plain": [
       "<Figure size 1060x480 with 3 Axes>"
      ]
     },
     "metadata": {},
     "output_type": "display_data"
    }
   ],
   "source": [
    "\n",
    "qb_df = df[(df['name'] == quarterback) & (df['week'] == week) & (df['season'] == season)]\n",
    "\n",
    "# Field Plot:\n",
    "# fig, (ax1, ax2) = plt.subplots(1, 2) #make 2 plots side by side for both thingys\n",
    "\n",
    "fig, (ax1, ax2, ax3) = plt.subplots(1, 3, figsize=(10.6, 4.8)) # make 3 plots side by side\n",
    "\n",
    "plt.style.use('dark_background') #black background\n",
    "\n",
    "\n",
    "fig.suptitle(f'{quarterback} - Week {week}, {season}', fontsize=16)\n",
    "\n",
    "# Set green background for all plots\n",
    "ax1.set_facecolor('#25641e')\n",
    "ax2.set_facecolor('#25641e')\n",
    "ax3.set_facecolor('#25641e')\n",
    "\n",
    "#ax1####\n",
    "ax1.set_xlabel('')\n",
    "ax1.set_xticks([])\n",
    "ax1.set_yticks([])\n",
    "ax1.set_ylabel('')\n",
    "\n",
    "ax1.set_xlim(-53.333/2, 53.333/2) #field dimensions\n",
    "ax1.set_ylim(-15,60)\n",
    "\n",
    "for h in range(-15,60-1,1): #create hash marks\n",
    "    ax1.annotate('--', (-3.1, h-0.5), ha='center', fontsize=10)\n",
    "    ax1.annotate('--', (3.1, h-0.5), ha='center', fontsize=10)\n",
    "\n",
    "for y in range(-15, 60-1, 5): #create yard lines this is the feint 5 yards line\n",
    "    ax1.axhline(y, color ='white', ls = '-', alpha = 0.5, lw = 1)\n",
    "\n",
    "for i in range(-10, 60, 10): #this is the bold 10 yard line\n",
    "    ax1.axhline(i, color ='white', ls='-', alpha=1, lw=1.5)\n",
    "\n",
    "for i in range(10, 60-1, 10): #create yard numbers\n",
    "    ax1.annotate(str(i), (-12.88, i-1.15), ha='center', fontsize=20, rotation=270)\n",
    "    ax1.annotate(str(i), (12.88, i-0.65), ha='center', fontsize=20, rotation=90)\n",
    "\n",
    "\n",
    "# add line of scrimmage:\n",
    "ax1.axhline(0, color='blue', ls='-', alpha=1, lw=1.5)\n",
    "ax1.axhline(10, color='yellow', ls='-', alpha=1, lw=1.5)\n",
    "ax1.title.set_text('Completions')\n",
    "\n",
    "\n",
    "#ax2####\n",
    "ax2.set_xlabel('')\n",
    "ax2.set_xticks([])\n",
    "ax2.set_yticks([])\n",
    "ax2.set_ylabel('')\n",
    "\n",
    "ax2.set_xlim(-53.333/2, 53.333/2)\n",
    "ax2.set_ylim(-15,60)\n",
    "\n",
    "for h in range(-15,60-1,1): #create hash marks\n",
    "    ax2.annotate('--', (-3.1, h-0.5), ha='center', fontsize=10)\n",
    "    ax2.annotate('--', (3.1, h-0.5), ha='center', fontsize=10)\n",
    "\n",
    "for y in range(-15, 60-1, 5): #create yard lines this is the feint 5 yards line\n",
    "    ax2.axhline(y, color ='white', ls = '-', alpha = 0.5, lw = 1)\n",
    "\n",
    "for i in range(-10, 60, 10): #this is the bold 10 yard line\n",
    "    ax2.axhline(i, color ='white', ls='-', alpha = 1, lw = 1.5)\n",
    "\n",
    "for i in range(10, 60-1, 10): #create yard numbers\n",
    "    ax2.annotate(str(i), (-12.88, i-1.15), ha='center', fontsize=20, rotation=270)\n",
    "    ax2.annotate(str(i), (12.88, i-0.65), ha='center', fontsize=20, rotation=90)\n",
    "    \n",
    "    \n",
    "# add line of scrimmage:\n",
    "ax2.axhline(0, color='blue', ls='-', alpha=1, lw=1.5)\n",
    "ax2.axhline(10, color='yellow', ls='-', alpha=1, lw=1.5)\n",
    "\n",
    "ax2.title.set_text('Incompletions')\n",
    "\n",
    "# same for ax3 ######\n",
    "ax3.set_xlabel('')\n",
    "ax3.set_xticks([])\n",
    "ax3.set_yticks([])\n",
    "ax3.set_ylabel('')\n",
    "\n",
    "ax3.set_xlim(-53.333/2, 53.333/2)\n",
    "ax3.set_ylim(-15,60)\n",
    "\n",
    "for h in range(-15,60-1,1): #create hash marks\n",
    "    ax3.annotate('--', (-3.1, h-0.5), ha='center', fontsize=10)\n",
    "    ax3.annotate('--', (3.1, h-0.5), ha='center', fontsize=10)\n",
    "\n",
    "for y in range(-15, 60-1, 5): #create yard lines this is the feint 5 yards line\n",
    "    ax3.axhline(y, color ='white', ls = '-', alpha = 0.5, lw = 1)\n",
    "\n",
    "for i in range(-10, 60, 10): #this is the bold 10 yard line\n",
    "    ax3.axhline(i, color ='white', ls='-', alpha = 1, lw = 1.5)\n",
    "\n",
    "for i in range(10, 60-1, 10): #create yard numbers\n",
    "    ax3.annotate(str(i), (-12.88, i-1.15), ha='center', fontsize=20, rotation=270)\n",
    "    ax3.annotate(str(i), (12.88, i-0.65), ha='center', fontsize=20, rotation=90)\n",
    "    \n",
    "    \n",
    "# add line of scrimmage:\n",
    "ax3.axhline(0, color='blue', ls='-', alpha=1, lw=1.5)\n",
    "ax3.axhline(10, color='yellow', ls='-', alpha=1, lw=1.5)\n",
    "\n",
    "ax3.title.set_text('All Passes')\n",
    "\n",
    "\n",
    "# Making the plots\n",
    "x_complete = qb_df[qb_df['pass_type'].isin(['COMPLETE', 'TOUCHDOWN'])]['x']\n",
    "y_complete = qb_df[qb_df['pass_type'].isin(['COMPLETE', 'TOUCHDOWN'])]['y']\n",
    "x_incomplete = qb_df[qb_df['pass_type'].isin(['INCOMPLETE', 'INTERCEPTION'])]['x']\n",
    "y_incomplete = qb_df[qb_df['pass_type'].isin(['INCOMPLETE', 'INTERCEPTION'])]['y']\n",
    "\n",
    "#Completions Heatmap\n",
    "sns.kdeplot(x = x_complete, y = y_complete, ax = ax1, cmap = 'summer', fill = True, thresh = 0.2, n_levels = 10)\n",
    "\n",
    "#Incompletions Heatmap\n",
    "sns.kdeplot(x = x_incomplete, y = y_incomplete, ax = ax2, cmap = 'winter', fill = True, thresh = 0.2, n_levels = 10) #heatmap\n",
    "\n",
    "# Define a color palette for pass types\n",
    "palette = {\n",
    "    'COMPLETE': 'lime',\n",
    "    'INCOMPLETE': 'red',\n",
    "    'TOUCHDOWN': 'gold',\n",
    "    'INTERCEPTION': 'purple'\n",
    "}\n",
    "\n",
    "## SHAPES ##\n",
    "# Define a marker style for each pass type\n",
    "marker_styles = {\n",
    "    'COMPLETE': 'o',  # Circle\n",
    "    'INCOMPLETE': 'X',  # X marker\n",
    "    'TOUCHDOWN': 'P',  # Plus (filled)\n",
    "    'INTERCEPTION': 'D'  # Diamond\n",
    "}\n",
    "\n",
    "# Add scatterplot with different shapes for pass types\n",
    "for pass_type, marker in marker_styles.items():\n",
    "    subset = qb_df[qb_df['pass_type'] == pass_type]\n",
    "    if subset.empty:\n",
    "        print(f\"No data for pass type: {pass_type}\")\n",
    "        continue\n",
    "    sns.scatterplot(\n",
    "        x=subset.x, \n",
    "        y=subset.y, \n",
    "        ax=ax3, \n",
    "        s=50, \n",
    "        marker=marker, \n",
    "        label=pass_type, \n",
    "        color=palette[pass_type], \n",
    "        edgecolor='black'\n",
    "    )\n",
    "\n",
    "# Bring shapes to the front\n",
    "for collection in ax3.collections:\n",
    "    collection.set_zorder(5)\n",
    "\n",
    "# Make scatter plot points on the frontmost layer\n",
    "if ax3.collections:\n",
    "    ax3.collections[-1].set_zorder(10)\n",
    "else:\n",
    "    print(\"No scatterplot points found in ax3.collections.\")\n",
    "\n",
    "# Place the legend outside the plot\n",
    "handles, labels = ax3.get_legend_handles_labels()\n",
    "if handles:\n",
    "    ax3.legend(handles=handles, loc='center left', bbox_to_anchor=(1, 0.5))\n",
    "else:\n",
    "    print(\"No legend items to display.\")"
   ]
  },
  {
   "cell_type": "code",
   "execution_count": null,
   "metadata": {},
   "outputs": [],
   "source": []
  }
 ],
 "metadata": {
  "kernelspec": {
   "display_name": "base",
   "language": "python",
   "name": "python3"
  },
  "language_info": {
   "codemirror_mode": {
    "name": "ipython",
    "version": 3
   },
   "file_extension": ".py",
   "mimetype": "text/x-python",
   "name": "python",
   "nbconvert_exporter": "python",
   "pygments_lexer": "ipython3",
   "version": "3.12.3"
  }
 },
 "nbformat": 4,
 "nbformat_minor": 2
}
